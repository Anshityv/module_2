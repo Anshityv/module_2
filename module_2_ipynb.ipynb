{
  "nbformat": 4,
  "nbformat_minor": 0,
  "metadata": {
    "colab": {
      "provenance": []
    },
    "kernelspec": {
      "name": "python3",
      "display_name": "Python 3"
    },
    "language_info": {
      "name": "python"
    }
  },
  "cells": [
    {
      "cell_type": "markdown",
      "source": [
        "# **Theory questions**"
      ],
      "metadata": {
        "id": "jGgze7IlNRpL"
      }
    },
    {
      "cell_type": "markdown",
      "source": [
        "1.What are data structures, and why are they important?\n",
        "- Data structures are ways of organizing and storing data in a computer so that it can be accessed and manipulated efficiently. They are fundamental to computer science and programming, and Python provides a rich set of built-in data structures as well as the ability to create custom ones.\n",
        "\n",
        "data structures are important in Python because :\n",
        "\n",
        "- Efficiency: Choosing the right data structure can significantly impact the performance of your code.\n",
        "- For example:\n",
        "Lists: Great for general-purpose data storage and manipulation, but inserting or deleting elements at the beginning can be slow.\n",
        "\n",
        "Dictionaries: Provide fast access to values based on their keys, ideal for lookups.\n",
        "\n",
        "Sets: Efficient for checking membership and eliminating duplicates.\n",
        "\n",
        "- Organization: Data structures help you to organize your data in a logical and meaningful way, making your code easier to read, understand, and maintain.\n",
        "\n",
        "- Problem Solving: Different data structures are designed to solve specific problems.\n",
        "\n",
        "- Abstraction: Data structures provide a level of abstraction, allowing you to focus on the problem you're trying to solve rather than the low-level implementation details of how the data is stored.\n",
        "\n",
        "Common Python Data Structures:\n",
        "Lists: Ordered, mutable collections of items.\n",
        "Tuples: Ordered, immutable collections of items.\n",
        "Dictionaries: Key-value pairs for fast lookups.\n",
        "Sets: Unordered collections of unique items.\n",
        "\n",
        "- Choosing the Right Data Structure:\n",
        "The right data structure depends on the specific requirements of your program.\n",
        "\n",
        "Consider the following factors:\n",
        "Operations: What operations will you be performing on the data (insertion, deletion, search, etc.)?\n",
        "\n",
        "Access: How do you need to access the data (by index, by key, or in a specific order)?\n",
        "\n",
        "Memory: How much memory are you willing to use?\n",
        "\n",
        "Complexity: How important is the performance of your code?\n",
        "\n",
        "2. Explain the difference between mutable and immutable data types with examples?\n",
        "- Mutable data types\n",
        "\n",
        "- These data types can be modified after they are created.\n",
        "- Examples of mutable data types include lists, dictionaries, and sets.\n",
        "\n",
        " Immutable data types\n",
        "\n",
        "- These data types cannot be changed once they are set.\n",
        "\n",
        "- Examples of immutable data types include strings, tuples, integers, and floats.\n",
        "\n",
        "3. E What are the main differences between lists and tuples in Python?\n",
        "- Mutability:\n",
        "- Lists: Mutable, meaning you can modify their elements (add, remove, change) after creation.\n",
        "- Tuples: Immutable, meaning their elements cannot be changed once created.\n",
        "\n",
        "Syntax:\n",
        "- Lists: Defined using square brackets [].\n",
        "- Tuples: Defined using parentheses ().\n",
        "\n",
        " Performance:\n",
        "- Lists: Generally slower and use more memory than tuples due to their mutability.\n",
        "- Tuples: Faster and more memory-efficient than lists because Python knows they won't change.\n",
        "\n",
        "Use Cases:\n",
        "- Lists:\n",
        "Ideal for storing collections of data that need to be modified, such as a list of student names.\n",
        "- Tuples:\n",
        "Suitable for representing fixed data that shouldn't be changed, such as coordinates or database records.\n",
        "\n",
        "4. Describe how dictionaries store data?\n",
        "- Dictionaries are a fundamental data structure in Python that store data in a collection of key-value pairs. Each key is unique and immutable (meaning it cannot be changed after creation), and it is used to access its corresponding value.\n",
        "\n",
        "Key-Value Pairs\n",
        "\n",
        "The core concept of a dictionary is the key-value pair. This pairing allows you to associate a specific value with a unique key, enabling efficient data retrieval.\n",
        "\n",
        "Hashing\n",
        "\n",
        "Dictionaries in Python are implemented using a technique called hashing. When you store a key-value pair in a dictionary, the key is passed through a hash function, which generates a unique index (or hash code) for that key. This index is used to determine the location in memory where the corresponding value will be stored.\n",
        "\n",
        "Retrieval\n",
        "\n",
        "When you want to retrieve a value from a dictionary using its key, the same hashing process is applied to the key to determine its location in memory. The value stored at that location is then returned.\n",
        "\n",
        "Key Immutability\n",
        "\n",
        "The requirement that keys be immutable is essential for the integrity of the dictionary. If a key were mutable, its hash code could change after being inserted into the dictionary, leading to difficulties in retrieving its associated value.\n",
        "\n",
        "5. Why might you use a set instead of a list in Python?\n",
        "- You would use a set instead of a list in Python when:\n",
        "\n",
        "- Uniqueness is Important:\n",
        "Sets only contain unique elements, automatically eliminating duplicates. if you need to ensure that all elements in your collection are unique, then you would use a set instead of a list because if you put a duplicate element in a set, it would automatically get removed.\n",
        "\n",
        "- Membership Testing:\n",
        " Checking if an element is present in a set (in operator) is significantly faster than in a list. This is due to how sets are implemented (using hash tables), making them ideal for tasks like checking if a value exists within a large dataset.\n",
        "\n",
        "- Mathematical Set Operations:\n",
        " Sets support operations like union, intersection, and difference, which can be very handy for specific tasks. These operations are not directly available for lists and would require more complex code to achieve the same results.\n",
        "\n",
        " 6. What is a string in Python, and how is it different from a list?\n",
        " - Differences\n",
        "\n",
        "- Mutability:\n",
        "\n",
        "Strings: are immutable\n",
        "\n",
        "lists: are mutable.\n",
        "\n",
        "- Data Type:\n",
        "\n",
        "Strings: hold text\n",
        "\n",
        "lists: can hold any data type.\n",
        "\n",
        "- Purpose:\n",
        "\n",
        "Strings: represent text\n",
        "\n",
        "lists: are for storing collections of items.\n",
        "\n",
        "- Syntax:\n",
        "\n",
        "Strings: use quotes\n",
        "\n",
        "lists: use square brackets\n",
        "\n",
        "7. How do tuples ensure data integrity in Python?\n",
        "- Tuples ensure data integrity primarily through their immutability. Once a tuple is created, its elements cannot be changed, added, or removed. This prevents accidental or unauthorized modifications, guaranteeing that the data remains consistent throughout the program's execution.\n",
        "\n",
        "- By using tuples for sensitive or critical data, you can be confident that it won't be unintentionally altered, thus maintaining its integrity.\n",
        "\n",
        "8. What is a hash table, and how does it relate to dictionaries in Python?\n",
        "- Hash Table:\n",
        "\n",
        "A hash table is a data structure that stores data in key-value pairs, where each key is unique and is used to quickly access its corresponding value. It uses a hash function to compute an index (hash code) for each key, which determines where the value is stored in the table.\n",
        "\n",
        "Dictionaries in Python:\n",
        "\n",
        "Dictionaries in Python are implemented using hash tables. This means that when you store a key-value pair in a dictionary, Python uses a hash function to determine the location in memory where the value will be stored, based on the key's hash code. This allows for efficient retrieval of values using their keys.\n",
        "\n",
        "So, Hash tables provide the underlying mechanism for how dictionaries store and retrieve data quickly in Python. They are essential for the fast lookups that dictionaries are known for.\n",
        "\n",
        "9.  Can lists contain different data types in Python?\n",
        "- Yes, lists in Python can contain different data types. You can mix and match integers, floats, strings, booleans, and even other lists within a single list. This flexibility makes lists versatile for storing various kinds of data in a single collection.\n",
        "\n",
        "10.  Explain why strings are immutable in Python?\n",
        "- Strings are immutable in Python for several reasons, primarily for performance and security.\n",
        "\n",
        "- Performance: Immutability allows strings to be stored more efficiently in memory. Because Python knows that a string's value won't change, it can optimize its storage and handling, leading to faster execution times. For example, it can reuse the same string object in different parts of a program.\n",
        "\n",
        "- Security: Immutability helps prevent unintended side effects when strings are used as keys in dictionaries or elements in sets. Since keys need to remain constant to ensure data integrity, using mutable objects as keys could lead to errors or unpredictable behavior. Immutable strings provide a stable foundation for these data structures.\n",
        "\n",
        "So, immutability contributes to making strings efficient and reliable components in Python programs.\n",
        "\n",
        "11. What advantages do dictionaries offer over lists for certain tasks?\n",
        "\n",
        "-  fast lookups:\n",
        "When you need to frequently access data based on a unique identifier (like a student ID or a product code), dictionaries are much more efficient.\n",
        "\n",
        "-  Efficient Data Organization:\n",
        "When you need to store and access data with clear relationships between different pieces of information, dictionaries are a better choice for organizing your data logically.\n",
        "\n",
        "- Flexibility:\n",
        "When you need to store data with different types and structures, dictionaries offer more flexibility.\n",
        "\n",
        "12.  Describe a scenario where using a tuple would be preferable over a list?\n",
        "- Scenario: Storing coordinates of a point (x, y).\n",
        "\n",
        "Why tuple is better: Coordinates are fixed and should not be modified once set. A tuple's immutability ensures data integrity and prevents accidental changes, making it the safer choice.\n",
        "\n",
        "In this case, using a tuple guarantees that the coordinates (x, y) remain constant, preserving the point's location throughout the program's execution.\n",
        "\n",
        "13. How do sets handle duplicate values in Python?\n",
        "- Sets in Python automatically handle duplicate values by simply ignoring them. When you add a duplicate element to a set, it's not added, and no error is raised. This is because sets are designed to store only unique elements.\n",
        "\n",
        "Essentially, sets inherently maintain uniqueness, so you don't need to worry about duplicates when using them.\n",
        "\n",
        "14.  How does the “in” keyword work differently for lists and dictionaries?\n",
        "- Lists: in checks if a value is present as an element within the list. It searches through the entire list, and returns True if the value is found, False otherwise.\n",
        "\n",
        "- Dictionaries: in checks if a value is present as a key in the dictionary. It only looks at the keys, not the values. It returns True if the value is a key, False otherwise.\n",
        "\n",
        "So, in searches for values in lists, but searches for keys in dictionaries.\n",
        "\n",
        "15. Can you modify the elements of a tuple? Explain why or why not?\n",
        "- No, you cannot modify the elements of a tuple. This is because tuples are immutable, meaning their elements are fixed and cannot be changed after creation. This immutability is a fundamental characteristic of tuples in python that ensures data integrity, enables use in dictionaries and sets, and can potentially lead to performance optimizations.\n",
        "\n",
        "16.  What is a nested dictionary, and give an example of its use case?\n",
        "- Nested Dictionary: A dictionary where the values are themselves dictionaries, creating a hierarchical structure.\n",
        "\n",
        "- Use Case: Storing student information with names as keys and inner dictionaries holding their age and major.\n",
        "\n",
        "student_data = {\n",
        "\n",
        "      \"Alice\": {\"age\": 20, \"major\": \"Computer Science\"},\n",
        "      \"Bob\": {\"age\": 22, \"major\": \"Physics\"}\n",
        "\n",
        "}\n",
        "\n",
        "This allows you to organize and access student data easily based on their name and then retrieve details like age or major.\n",
        "\n",
        "17. Describe the time complexity of accessing elements in a dictionary?\n",
        "- Time Complexity: On average, accessing an element in a dictionary using its key takes O(1) time, also known as constant time.\n",
        "\n",
        "Because Dictionaries use a technique called hashing, which allows them to directly locate the element's location in memory based on its key, making access very fast and independent of the dictionary's size.\n",
        "\n",
        "So, it takes roughly the same amount of time to find an element in a dictionary, regardless of whether the dictionary has 10 items or 10,000 items. This makes dictionaries very efficient for data retrieval.\n",
        "\n",
        "18.  In what situations are lists preferred over dictionaries?\n",
        "- Lists are preferred over dictionaries when:\n",
        "\n",
        "Order matters:\n",
        "You need to maintain the order of elements.\n",
        "\n",
        "Duplicate values are allowed:\n",
        "You need to store potentially repeated values.\n",
        "\n",
        "Accessing elements by index is frequent:\n",
        "You primarily access elements using their index.\n",
        "\n",
        "19. Why are dictionaries considered unordered, and how does that affect data retrieval?\n",
        "- Dictionaries are considered unordered because they do not guarantee any specific order for their key-value pairs. This means that the order in which you insert elements might not be the same order in which they are stored or retrieved.\n",
        "\n",
        "How it affects data retrieval:\n",
        "\n",
        "You should access elements by their keys, not by their position or expected order, as the order might change. Retrieval using keys is still very fast (O(1) time complexity) because of hashing.\n",
        "\n",
        "20.  Explain the difference between a list and a dictionary in terms of data retrieval?\n",
        "- difference between list and dictionary data retrieval:\n",
        "\n",
        "- Lists: Retrieve elements by their index. Access time can vary depending on the list's size.\n",
        "\n",
        "- Dictionaries: Retrieve elements by their key. Access time is generally very fast and independent of the dictionary's size.\n",
        "\n",
        "So, Lists use numerical indexing for data retrieval, while dictionaries use key-based lookups, often leading to faster and more efficient access.\n"
      ],
      "metadata": {
        "id": "gQlPYqaBNXJf"
      }
    },
    {
      "cell_type": "markdown",
      "source": [
        "# **Practical Questions**"
      ],
      "metadata": {
        "id": "jwTYqrA3aM1d"
      }
    },
    {
      "cell_type": "code",
      "source": [
        "# 1.Write a code to create a string with your name and print it?\n",
        "name=\"anshit\"\n",
        "print(name)"
      ],
      "metadata": {
        "colab": {
          "base_uri": "https://localhost:8080/"
        },
        "id": "e7eXT2FiXFmf",
        "outputId": "b2c1a32f-7767-4b4b-9e6c-ff6e3cbc5940"
      },
      "execution_count": 1,
      "outputs": [
        {
          "output_type": "stream",
          "name": "stdout",
          "text": [
            "anshit\n"
          ]
        }
      ]
    },
    {
      "cell_type": "code",
      "source": [
        "#2.Write a code to find the length of the string \"Hello World\"?\n",
        "string=\"Hello World\"\n",
        "print(len(string))"
      ],
      "metadata": {
        "colab": {
          "base_uri": "https://localhost:8080/"
        },
        "id": "ana6x_AIac80",
        "outputId": "c9e8d915-6460-451b-e52a-e13217c98904"
      },
      "execution_count": 2,
      "outputs": [
        {
          "output_type": "stream",
          "name": "stdout",
          "text": [
            "11\n"
          ]
        }
      ]
    },
    {
      "cell_type": "code",
      "source": [
        "#3.Write a code to slice the first 3 characters from the string \"Python Programming\"?\n",
        "string=\"Python Programming\"\n",
        "print(string[0:3])"
      ],
      "metadata": {
        "colab": {
          "base_uri": "https://localhost:8080/"
        },
        "id": "SoSMrs8_ac22",
        "outputId": "cb04a5d6-35ce-4d6e-c0cc-96d3624cafca"
      },
      "execution_count": 3,
      "outputs": [
        {
          "output_type": "stream",
          "name": "stdout",
          "text": [
            "Pyt\n"
          ]
        }
      ]
    },
    {
      "cell_type": "code",
      "source": [
        "# 4.Write a code to convert the string \"hello\" to uppercase?\n",
        "string=\"hello\"\n",
        "print(string.upper())"
      ],
      "metadata": {
        "colab": {
          "base_uri": "https://localhost:8080/"
        },
        "id": "Uj16506Dacy6",
        "outputId": "6d66a216-adf2-43ba-9ade-f12a9d0a59fc"
      },
      "execution_count": 4,
      "outputs": [
        {
          "output_type": "stream",
          "name": "stdout",
          "text": [
            "HELLO\n"
          ]
        }
      ]
    },
    {
      "cell_type": "code",
      "source": [
        "# 5.Write a code to replace the word \"apple\" with \"orange\" in the string \"I like apple\"?\n",
        "string=\"I like apple\"\n",
        "print(string.replace(\"apple\",\"orange\"))"
      ],
      "metadata": {
        "colab": {
          "base_uri": "https://localhost:8080/"
        },
        "id": "c-x4T4vyactf",
        "outputId": "cc723b49-87b2-416f-b7dd-1e1a4a2b3f6b"
      },
      "execution_count": 5,
      "outputs": [
        {
          "output_type": "stream",
          "name": "stdout",
          "text": [
            "I like orange\n"
          ]
        }
      ]
    },
    {
      "cell_type": "code",
      "source": [
        "# 6.Write a code to create a list with numbers 1 to 5 and print it?\n",
        "list=[1,2,3,4,5]\n",
        "print(list)"
      ],
      "metadata": {
        "colab": {
          "base_uri": "https://localhost:8080/"
        },
        "id": "Y8yoBMqYaco3",
        "outputId": "5e7e1a59-5287-4a49-839d-da5b5185e3b8"
      },
      "execution_count": 6,
      "outputs": [
        {
          "output_type": "stream",
          "name": "stdout",
          "text": [
            "[1, 2, 3, 4, 5]\n"
          ]
        }
      ]
    },
    {
      "cell_type": "code",
      "source": [
        "# 7.Write a code to append the number 10 to the list [1, 2, 3, 4]?\n",
        "list=[1,2,3,4]\n",
        "list.append(10)\n",
        "print(list)"
      ],
      "metadata": {
        "colab": {
          "base_uri": "https://localhost:8080/"
        },
        "id": "IHW-kjpEacki",
        "outputId": "b11f021e-5672-4ae5-df59-b0edcd6acba4"
      },
      "execution_count": 7,
      "outputs": [
        {
          "output_type": "stream",
          "name": "stdout",
          "text": [
            "[1, 2, 3, 4, 10]\n"
          ]
        }
      ]
    },
    {
      "cell_type": "code",
      "source": [
        "#8. Write a code to remove the number 3 from the list [1, 2, 3, 4, 5]?\n",
        "list=[1,2,3,4,5]\n",
        "list.remove(3)\n",
        "print(list)"
      ],
      "metadata": {
        "colab": {
          "base_uri": "https://localhost:8080/"
        },
        "id": "JSiDhefxacf7",
        "outputId": "002d4d82-b1ae-4710-f8fe-ffc58ecb893f"
      },
      "execution_count": 8,
      "outputs": [
        {
          "output_type": "stream",
          "name": "stdout",
          "text": [
            "[1, 2, 4, 5]\n"
          ]
        }
      ]
    },
    {
      "cell_type": "code",
      "source": [
        "# 9.  Write a code to access the second element in the list ['a', 'b', 'c', 'd']?\n",
        "list=['a','b','c','d']\n",
        "print(list[1])"
      ],
      "metadata": {
        "colab": {
          "base_uri": "https://localhost:8080/"
        },
        "id": "NeX3yvo1acag",
        "outputId": "85f3f788-7157-44b2-e257-5732d1733264"
      },
      "execution_count": 9,
      "outputs": [
        {
          "output_type": "stream",
          "name": "stdout",
          "text": [
            "b\n"
          ]
        }
      ]
    },
    {
      "cell_type": "code",
      "source": [
        "# 10. Write a code to reverse the list [10, 20, 30, 40, 50]?\n",
        "list=[10,20,30,40,50]\n",
        "list.reverse()\n",
        "print(list)"
      ],
      "metadata": {
        "colab": {
          "base_uri": "https://localhost:8080/"
        },
        "id": "8t3M0aPPacWu",
        "outputId": "60c86e0c-7188-48b5-e6fa-38d268f8ce18"
      },
      "execution_count": 12,
      "outputs": [
        {
          "output_type": "stream",
          "name": "stdout",
          "text": [
            "[50, 40, 30, 20, 10]\n"
          ]
        }
      ]
    },
    {
      "cell_type": "code",
      "source": [
        "#11.Write a code to create a tuple with the elements 10, 20, 30 and print it?\n",
        "tuple=(10,20,30)\n",
        "print(tuple)"
      ],
      "metadata": {
        "colab": {
          "base_uri": "https://localhost:8080/"
        },
        "id": "Xm-BNb1bacS-",
        "outputId": "ce9dbd20-46ca-426c-be0d-36632b1d987a"
      },
      "execution_count": 13,
      "outputs": [
        {
          "output_type": "stream",
          "name": "stdout",
          "text": [
            "(10, 20, 30)\n"
          ]
        }
      ]
    },
    {
      "cell_type": "code",
      "source": [
        "#12.  Write a code to access the first element of the tuple ('apple', 'banana', 'cherry')\n",
        "tuple=('apple','banana','cherry')\n",
        "print(tuple[0])"
      ],
      "metadata": {
        "colab": {
          "base_uri": "https://localhost:8080/"
        },
        "id": "jMXJGfl7aYtD",
        "outputId": "dc84d664-916d-4cf5-a00f-edfd4ddb3cf5"
      },
      "execution_count": 14,
      "outputs": [
        {
          "output_type": "stream",
          "name": "stdout",
          "text": [
            "apple\n"
          ]
        }
      ]
    },
    {
      "cell_type": "code",
      "source": [
        "#13. Write a code to count how many times the number 2 appears in the tuple (1, 2, 3, 2, 4, 2)?\n",
        "tuple=(1,2,3,2,4,2)\n",
        "print(tuple.count(2))"
      ],
      "metadata": {
        "colab": {
          "base_uri": "https://localhost:8080/"
        },
        "id": "X21BOhcOaYq9",
        "outputId": "1ba17f9a-e393-42a7-b6de-046e443fbcc7"
      },
      "execution_count": 15,
      "outputs": [
        {
          "output_type": "stream",
          "name": "stdout",
          "text": [
            "3\n"
          ]
        }
      ]
    },
    {
      "cell_type": "code",
      "source": [
        "#14.  Write a code to find the index of the element \"cat\" in the tuple ('dog', 'cat', 'rabbit')?\n",
        "tuple=('dog','cat','rabbit')\n",
        "print(tuple.index('cat'))"
      ],
      "metadata": {
        "colab": {
          "base_uri": "https://localhost:8080/"
        },
        "id": "Taa1-9TzaYox",
        "outputId": "8e390778-83ff-4216-9373-f1b9489e5417"
      },
      "execution_count": 16,
      "outputs": [
        {
          "output_type": "stream",
          "name": "stdout",
          "text": [
            "1\n"
          ]
        }
      ]
    },
    {
      "cell_type": "code",
      "source": [
        "#15.  Write a code to check if the element \"banana\" is in the tuple ('apple', 'orange', 'banana')?\n",
        "tuple=('apple','orange','banana')\n",
        "print('banana' in tuple)"
      ],
      "metadata": {
        "colab": {
          "base_uri": "https://localhost:8080/"
        },
        "id": "7UnVFy42aYmk",
        "outputId": "586e571f-dd35-4266-8f7e-c03acff6cf82"
      },
      "execution_count": 17,
      "outputs": [
        {
          "output_type": "stream",
          "name": "stdout",
          "text": [
            "True\n"
          ]
        }
      ]
    },
    {
      "cell_type": "code",
      "source": [
        "#16.  Write a code to create a set with the elements 1, 2, 3, 4, 5 and print it\n",
        "set={1,2,3,4,5}\n",
        "print(set)"
      ],
      "metadata": {
        "colab": {
          "base_uri": "https://localhost:8080/"
        },
        "id": "2iYf3DpxaYkI",
        "outputId": "b4b117af-a558-457f-ee6e-3ba60362817f"
      },
      "execution_count": 18,
      "outputs": [
        {
          "output_type": "stream",
          "name": "stdout",
          "text": [
            "{1, 2, 3, 4, 5}\n"
          ]
        }
      ]
    },
    {
      "cell_type": "code",
      "source": [
        "#17. Write a code to add the element 6 to the set {1, 2, 3, 4}\n",
        "set={1,2,3,4}\n",
        "set.add(6)\n",
        "print(set)"
      ],
      "metadata": {
        "colab": {
          "base_uri": "https://localhost:8080/"
        },
        "id": "QRo0Vb92aYhV",
        "outputId": "6bc72a32-6bc9-45d1-d36f-b13ed4653195"
      },
      "execution_count": 19,
      "outputs": [
        {
          "output_type": "stream",
          "name": "stdout",
          "text": [
            "{1, 2, 3, 4, 6}\n"
          ]
        }
      ]
    },
    {
      "cell_type": "code",
      "source": [
        "#18. Write a code to create a tuple with the elements 10, 20, 30 and print it\n",
        "tuple=(10,20,30)\n",
        "print(tuple)\n"
      ],
      "metadata": {
        "colab": {
          "base_uri": "https://localhost:8080/"
        },
        "id": "2qY6yHPUaYe-",
        "outputId": "b927ceb4-7fcd-47a5-a1e0-2fa78a84f7f2"
      },
      "execution_count": 20,
      "outputs": [
        {
          "output_type": "stream",
          "name": "stdout",
          "text": [
            "(10, 20, 30)\n"
          ]
        }
      ]
    },
    {
      "cell_type": "code",
      "source": [
        "#19.  Write a code to access the first element of the tuple ('apple', 'banana', 'cherry')\n",
        "tuple=('apple','banana','cherry')\n",
        "print(tuple[0])"
      ],
      "metadata": {
        "colab": {
          "base_uri": "https://localhost:8080/"
        },
        "id": "vubPrjQlaYcT",
        "outputId": "afeef3a7-0e67-48eb-d247-263f10f09330"
      },
      "execution_count": 21,
      "outputs": [
        {
          "output_type": "stream",
          "name": "stdout",
          "text": [
            "apple\n"
          ]
        }
      ]
    },
    {
      "cell_type": "code",
      "source": [
        "#20. Write a code to count how many times the number 2 appears in the tuple (1, 2, 3, 2, 4, 2)?\n",
        "tuple=(1,2,3,2,4,2)\n",
        "print(tuple.count(2))"
      ],
      "metadata": {
        "colab": {
          "base_uri": "https://localhost:8080/"
        },
        "id": "FjYXwz8DaYZ9",
        "outputId": "85edc0cb-61a7-4b7d-cb8e-787a219d12bb"
      },
      "execution_count": 22,
      "outputs": [
        {
          "output_type": "stream",
          "name": "stdout",
          "text": [
            "3\n"
          ]
        }
      ]
    },
    {
      "cell_type": "code",
      "source": [
        "#21. Write a code to find the index of the element \"cat\" in the tuple ('dog', 'cat', 'rabbit')?\n",
        "tuple=('dog','cat','rabbit')\n",
        "print(tuple.index('cat'))"
      ],
      "metadata": {
        "colab": {
          "base_uri": "https://localhost:8080/"
        },
        "id": "tmMbB6B6aYXY",
        "outputId": "2933db37-eb9c-41fb-c138-81f266afbbfe"
      },
      "execution_count": 23,
      "outputs": [
        {
          "output_type": "stream",
          "name": "stdout",
          "text": [
            "1\n"
          ]
        }
      ]
    },
    {
      "cell_type": "code",
      "source": [
        "#22. Write a code to check if the element \"banana\" is in the tuple ('apple', 'orange', 'banana')?\n",
        "tuple=('apple','orange','banana')\n",
        "print('banana' in tuple)"
      ],
      "metadata": {
        "colab": {
          "base_uri": "https://localhost:8080/"
        },
        "id": "J9cJDf2MaYVN",
        "outputId": "8e04e5ba-9a95-41e4-8c84-406bce9dd0e6"
      },
      "execution_count": 24,
      "outputs": [
        {
          "output_type": "stream",
          "name": "stdout",
          "text": [
            "True\n"
          ]
        }
      ]
    },
    {
      "cell_type": "code",
      "source": [
        "#23. Write a code to create a set with the elements 1, 2, 3, 4, 5 and print it?\n",
        "set={1,2,3,4,5}\n",
        "print(set)"
      ],
      "metadata": {
        "colab": {
          "base_uri": "https://localhost:8080/"
        },
        "id": "MbxAGEEdaYS0",
        "outputId": "79b2ce6a-44fa-4124-f8ad-eaadf0be653b"
      },
      "execution_count": 25,
      "outputs": [
        {
          "output_type": "stream",
          "name": "stdout",
          "text": [
            "{1, 2, 3, 4, 5}\n"
          ]
        }
      ]
    },
    {
      "cell_type": "code",
      "source": [
        "#24. Write a code to add the element 6 to the set {1, 2, 3, 4}?\n",
        "set={1,2,3,4}\n",
        "set.add(6)\n",
        "print(set)\n"
      ],
      "metadata": {
        "colab": {
          "base_uri": "https://localhost:8080/"
        },
        "id": "-SFE7ndTXFkK",
        "outputId": "e6685efb-de29-47e2-e990-700a4cbfa2bb"
      },
      "execution_count": 26,
      "outputs": [
        {
          "output_type": "stream",
          "name": "stdout",
          "text": [
            "{1, 2, 3, 4, 6}\n"
          ]
        }
      ]
    }
  ]
}